{
 "cells": [
  {
   "cell_type": "code",
   "execution_count": 11,
   "id": "c00218c0",
   "metadata": {},
   "outputs": [
    {
     "ename": "NameError",
     "evalue": "name 'FPM' is not defined",
     "output_type": "error",
     "traceback": [
      "\u001b[0;31m---------------------------------------------------------------------------\u001b[0m",
      "\u001b[0;31mNameError\u001b[0m                                 Traceback (most recent call last)",
      "Input \u001b[0;32mIn [11]\u001b[0m, in \u001b[0;36m<cell line: 17>\u001b[0;34m()\u001b[0m\n\u001b[1;32m     14\u001b[0m path \u001b[38;5;241m=\u001b[39m \u001b[38;5;124m'\u001b[39m\u001b[38;5;124m/Users/bcourtne/Documents/ANU_PHD2/baldr\u001b[39m\u001b[38;5;124m'\u001b[39m\n\u001b[1;32m     16\u001b[0m os\u001b[38;5;241m.\u001b[39mchdir(path)\n\u001b[0;32m---> 17\u001b[0m \u001b[38;5;28;01mfrom\u001b[39;00m \u001b[38;5;21;01mfunctions\u001b[39;00m \u001b[38;5;28;01mimport\u001b[39;00m baldr_functions_2 \u001b[38;5;28;01mas\u001b[39;00m baldr\n",
      "File \u001b[0;32m~/Documents/ANU_PHD2/baldr/functions/baldr_functions_2.py:823\u001b[0m, in \u001b[0;36m<module>\u001b[0;34m\u001b[0m\n\u001b[1;32m    798\u001b[0m         \u001b[38;5;28;01mreturn\u001b[39;00m( phi )   \n\u001b[1;32m    800\u001b[0m \u001b[38;5;250m        \u001b[39m\u001b[38;5;124;03m\"\"\"\u001b[39;00m\n\u001b[1;32m    801\u001b[0m \u001b[38;5;124;03m        P = pup #  rename to make equations clearer \u001b[39;00m\n\u001b[1;32m    802\u001b[0m \u001b[38;5;124;03m        P = np.sqrt((N_ph/np.nansum(abs(pup)*dx**2)))  #normalized so integral P^2 = N_ph\u001b[39;00m\n\u001b[0;32m   (...)\u001b[0m\n\u001b[1;32m    820\u001b[0m \u001b[38;5;124;03m        return( phi )  \u001b[39;00m\n\u001b[1;32m    821\u001b[0m \u001b[38;5;124;03m        \"\"\"\u001b[39;00m\n\u001b[0;32m--> 823\u001b[0m \u001b[38;5;28;01mclass\u001b[39;00m \u001b[38;5;21;01mZWFS\u001b[39;00m(DM, \u001b[43mFPM\u001b[49m, DET):\n\u001b[1;32m    824\u001b[0m     \u001b[38;5;28;01mdef\u001b[39;00m \u001b[38;5;21m__init__\u001b[39m(\u001b[38;5;28mself\u001b[39m,mode_dict):\n\u001b[1;32m    825\u001b[0m         \n\u001b[1;32m    826\u001b[0m        \t\u001b[38;5;66;03m# eventually I should make a ZWFS object that holds the configuration files etc \u001b[39;00m\n\u001b[1;32m    827\u001b[0m        \t\u001b[38;5;28mself\u001b[39m\u001b[38;5;241m.\u001b[39mpup \u001b[38;5;241m=\u001b[39m baldr\u001b[38;5;241m.\u001b[39mpick_pupil(pupil_geometry\u001b[38;5;241m=\u001b[39mmode_dict[\u001b[38;5;124m'\u001b[39m\u001b[38;5;124mtelescope\u001b[39m\u001b[38;5;124m'\u001b[39m][\u001b[38;5;124m'\u001b[39m\u001b[38;5;124mpup_geometry\u001b[39m\u001b[38;5;124m'\u001b[39m] , dim\u001b[38;5;241m=\u001b[39mmode_dict[\u001b[38;5;124m'\u001b[39m\u001b[38;5;124mtelescope\u001b[39m\u001b[38;5;124m'\u001b[39m][\u001b[38;5;124m'\u001b[39m\u001b[38;5;124mpupil_nx_pixels\u001b[39m\u001b[38;5;124m'\u001b[39m], diameter \u001b[38;5;241m=\u001b[39m mode_dict[\u001b[38;5;124m'\u001b[39m\u001b[38;5;124mtelescope\u001b[39m\u001b[38;5;124m'\u001b[39m][\u001b[38;5;124m'\u001b[39m\u001b[38;5;124mtelescope_diameter_pixels\u001b[39m\u001b[38;5;124m'\u001b[39m])\n",
      "\u001b[0;31mNameError\u001b[0m: name 'FPM' is not defined"
     ]
    }
   ],
   "source": [
    "\"\"\"\n",
    "Analysis of losses (Fresnel reflection) in a phase mask design for Baldr.\n",
    "\n",
    "1/2\" Si02 base\n",
    "1mm thick Si02 wafer\n",
    "Su-8 negative photoresist for dots\n",
    "Noa61 UV curing adhesive for Si02 base / wafer interface.\n",
    "\"\"\"\n",
    "import os\n",
    "import numpy as np\n",
    "import matplotlib.pyplot as plt \n",
    "import matplotlib.image as mpimg\n",
    "\n",
    "path = '/Users/bcourtne/Documents/ANU_PHD2/baldr'\n",
    "\n",
    "os.chdir(path)\n",
    "from functions import baldr_functions_2 as baldr"
   ]
  },
  {
   "cell_type": "code",
   "execution_count": null,
   "id": "20631d9a",
   "metadata": {},
   "outputs": [],
   "source": [
    "baldr_mask_figure = mpimg.imread( os.path.join( path,'figures/baldr_mask_design_1.png') )\n",
    "plt.imshow(baldr_mask_figure)\n",
    "plt.axis('off')\n",
    "plt.show()"
   ]
  },
  {
   "cell_type": "code",
   "execution_count": null,
   "id": "0685da9b",
   "metadata": {},
   "outputs": [],
   "source": []
  }
 ],
 "metadata": {
  "kernelspec": {
   "display_name": "Python 3 (ipykernel)",
   "language": "python",
   "name": "python3"
  },
  "language_info": {
   "codemirror_mode": {
    "name": "ipython",
    "version": 3
   },
   "file_extension": ".py",
   "mimetype": "text/x-python",
   "name": "python",
   "nbconvert_exporter": "python",
   "pygments_lexer": "ipython3",
   "version": "3.8.8"
  }
 },
 "nbformat": 4,
 "nbformat_minor": 5
}
